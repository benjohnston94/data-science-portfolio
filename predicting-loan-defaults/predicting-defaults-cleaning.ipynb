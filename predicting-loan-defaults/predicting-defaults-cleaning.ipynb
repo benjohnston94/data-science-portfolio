{
 "cells": [
  {
   "cell_type": "markdown",
   "metadata": {},
   "source": [
    "# Loan default prediction\n",
    "\n",
    "The dataset comes from [this kaggle competition](https://www.kaggle.com/c/credit-default-prediction-ai-big-data/overview)\n",
    "\n",
    "Our approach:\n",
    "* Standard imports\n",
    "* Read in data and look at summary statistics\n",
    "* EDA (distributions, relationships)\n",
    "* Model selection, model building (may try a few)\n",
    "* Answer the 'so what'"
   ]
  },
  {
   "cell_type": "markdown",
   "metadata": {},
   "source": [
    "## Data cleaning notebook - to be converted to script later\n",
    "\n",
    "**TODO:**\n",
    "* To drop:\n",
    "    * accounts with loan balance of 100,000,000\n",
    "    * 'Leaky' variables: drop credit score, ID\n",
    "* Deal with missing values\n",
    "    * Income - median\n",
    "    * Years in current job - median\n",
    "    * Months since last delinquency - might be able to assume these are people without previous delinquencies, which means we may be able to put in a very high value (e.g. 999) and create a related dummy variable\n",
    "    * Bankruptcies - if null then assume no bankruptcies\n",
    "    * (credit score missing values don't matter because we will drop this anyway)\n",
    "* Extract number from years in current job\n",
    "* Make dummy variables out of categorical vairables\n",
    "    * 'purpose' seems like a free text field - may make a dummy variable for is/isn't debt consolidation\n",
    "    * Home ownership - 'have mortgage' can grouped with home mortgage\n",
    "    * Term - 'short/long term' flag\n",
    "* Deal with imbalanced dataset"
   ]
  },
  {
   "cell_type": "code",
   "execution_count": null,
   "metadata": {},
   "outputs": [],
   "source": [
    "# standard imports\n",
    "import numpy as np\n",
    "import pandas as pd\n",
    "import matplotlib.pyplot as plt\n",
    "import seaborn as sns; sns.set()\n",
    "%matplotlib inline\n",
    "\n",
    "# read in data\n",
    "df = pd.read_csv(\"data/train.csv\")\n",
    "\n",
    "### SHOULD REALLY ADD SOME UNIT TESTS HERE\n",
    "\n",
    "# drop accounts with large loan balance\n",
    "def drop_large_loans(df):\n",
    "    \"\"\"\n",
    "    Drop rows with loan balance of 99,999,999\n",
    "    \"\"\"\n",
    "    return df[df[\"Current Loan Amount\"] != 99999999].copy()\n",
    "\n",
    "# drop credit score\n",
    "def drop_cols(df, drop_cols=[\"Id\", \"Credit Score\"]):\n",
    "    \"\"\"\n",
    "    Drop the columns specified; default is ID and credit score but these\n",
    "    can be specified manually if required\n",
    "    \"\"\"\n",
    "    return df.drop(drop_cols, axis = 1)\n",
    "\n",
    "# Years in current job -> numeric\n",
    "def convert_job_year_col(df):\n",
    "    \"\"\"\n",
    "    Convert years in current job column to numeric by extract numbers\n",
    "    \"\"\"\n",
    "    # first need to manually map <1 year to zero so extracting numbers doesn't equate them\n",
    "    df.loc[df[\"Years in current job\"].str.strip() == \"< 1 year\", \"Years in current job\"] = 0\n",
    "\n",
    "    # extract number from string\n",
    "    df[\"Years in current job\"] = (\n",
    "        df[\"Years in current job\"]\n",
    "        .str.extract(\"(\\d+)\", expand=False)\n",
    "        .astype(\"float64\", errors=\"ignore\") # match one or more digits\n",
    "    )\n",
    "    \n",
    "    return df\n",
    "\n",
    "# deal with missing values (income, months since last delinquency)\n",
    "def impute_median(df, cols_to_fill=[\"Annual Income\", \"Years in current job\"]):\n",
    "    \"\"\"\n",
    "    Fills the specified columns with the median of the column\n",
    "    \"\"\"\n",
    "    # TO ADD: unit to test to check year in current job in numeric\n",
    "    assert df[\"Years in current job\"].dtype == \"float64\"\n",
    "    \n",
    "    for col in cols_to_fill:\n",
    "        df[col].fillna((df[col].median()), inplace=True)\n",
    "    \n",
    "    # check columns have no nulls\n",
    "    for col in cols_to_fill:\n",
    "        assert df[col].isnull().sum() == 0, f\"Still null values in column: {col}!\"\n",
    "    \n",
    "    return df\n",
    "\n",
    "\n",
    "# Categorical variables (purpose, home ownership, term)\n",
    "\n",
    "\n",
    "# Imbalanced target class\n",
    "\n"
   ]
  },
  {
   "cell_type": "code",
   "execution_count": null,
   "metadata": {},
   "outputs": [],
   "source": [
    "df = drop_large_loans(df)\n",
    "df = drop_cols(df)\n",
    "df = convert_job_year_col(df)\n",
    "df = impute_median(df)\n",
    "\n",
    "df.info()"
   ]
  },
  {
   "cell_type": "code",
   "execution_count": null,
   "metadata": {},
   "outputs": [],
   "source": [
    "# make data cleaning pipeline - apply all functions\n",
    "# adding this to apply all functions to a dataframe at once\n",
    "# will come back to this later\n",
    "def make_data_pipeline(df):\n",
    "    pass"
   ]
  }
 ],
 "metadata": {
  "kernelspec": {
   "display_name": "Python 3",
   "language": "python",
   "name": "python3"
  },
  "language_info": {
   "codemirror_mode": {
    "name": "ipython",
    "version": 3
   },
   "file_extension": ".py",
   "mimetype": "text/x-python",
   "name": "python",
   "nbconvert_exporter": "python",
   "pygments_lexer": "ipython3",
   "version": "3.7.6"
  }
 },
 "nbformat": 4,
 "nbformat_minor": 4
}
